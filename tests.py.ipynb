{
 "cells": [
  {
   "cell_type": "code",
   "execution_count": 1,
   "id": "d4042f8b",
   "metadata": {},
   "outputs": [],
   "source": [
    "import os, sqlite3\n",
    "from module.realsymbol import Real as rs\n",
    "from datetime import datetime"
   ]
  },
  {
   "cell_type": "code",
   "execution_count": 14,
   "id": "28d40d3c",
   "metadata": {},
   "outputs": [],
   "source": [
    "date = datetime.today().strftime('%d/%m/%Y')\n",
    "tmov = 'saque'\n",
    "valor = 5.0"
   ]
  },
  {
   "cell_type": "code",
   "execution_count": 3,
   "id": "6a9d0844",
   "metadata": {},
   "outputs": [],
   "source": [
    "def ver():\n",
    "    if os.path.isfile('settings/cde.db'):\n",
    "        pass\n",
    "    else:\n",
    "        con = sqlite3.connect('settings/cde.db')\n",
    "        cur = con.cursor()\n",
    "        cur.execute('''CREATE TABLE movimentacao(Data date, TMov text, VMov real)''')\n",
    "        con.commit()\n",
    "        con.close()\n",
    "\n",
    "def movimentacao(x,y,z):\n",
    "    con = sqlite3.connect('settings/cde.db')\n",
    "    cur = con.cursor()\n",
    "    cur.execute('''INSERT INTO movimentacao VALUES('{}', '{}', '{}')'''.format(x, y, z))\n",
    "    con.commit()\n",
    "    con.close()\n"
   ]
  },
  {
   "cell_type": "code",
   "execution_count": 15,
   "id": "cc422a3f",
   "metadata": {},
   "outputs": [],
   "source": [
    "ver()\n",
    "movimentacao(date, tmov, valor)"
   ]
  },
  {
   "cell_type": "code",
   "execution_count": 24,
   "id": "6cc02b34",
   "metadata": {
    "scrolled": true
   },
   "outputs": [
    {
     "name": "stdout",
     "output_type": "stream",
     "text": [
      "150.0\n"
     ]
    }
   ],
   "source": [
    "ver()\n",
    "def del_car(x):\n",
    "    x = str(x).replace('(', '')\n",
    "    x = str(x).replace(',', '')\n",
    "    x = str(x).replace(')', '')\n",
    "    if x == 'None':\n",
    "        x = 0.0\n",
    "    else:\n",
    "        x = float(x)\n",
    "    return x\n",
    "\n",
    "con = sqlite3.connect('settings/cde.db')\n",
    "cur = con.cursor()\n",
    "for row in cur.execute('''SELECT SUM(VMov) FROM movimentacao WHERE TMov='deposito' '''):\n",
    "    deposito = row\n",
    "deposito = del_car(deposito)\n",
    "for row in cur.execute('''SELECT SUM(VMov) FROM movimentacao WHERE TMov='saque' '''):\n",
    "    saque = row\n",
    "saque = del_car(saque)\n",
    "con.commit()\n",
    "con.close()\n",
    "print(deposito - saque)"
   ]
  },
  {
   "cell_type": "code",
   "execution_count": null,
   "id": "a2bf76cd",
   "metadata": {},
   "outputs": [],
   "source": []
  }
 ],
 "metadata": {
  "kernelspec": {
   "display_name": "Python 3 (ipykernel)",
   "language": "python",
   "name": "python3"
  },
  "language_info": {
   "codemirror_mode": {
    "name": "ipython",
    "version": 3
   },
   "file_extension": ".py",
   "mimetype": "text/x-python",
   "name": "python",
   "nbconvert_exporter": "python",
   "pygments_lexer": "ipython3",
   "version": "3.9.7"
  }
 },
 "nbformat": 4,
 "nbformat_minor": 5
}
