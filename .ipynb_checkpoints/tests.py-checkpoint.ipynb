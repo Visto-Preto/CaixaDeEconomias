{
 "cells": [
  {
   "cell_type": "code",
   "execution_count": 1,
   "id": "c05878cf",
   "metadata": {},
   "outputs": [],
   "source": [
    "import os, sqlite3\n",
    "from module.realsymbol import Real as rs\n",
    "from datetime import datetime"
   ]
  },
  {
   "cell_type": "code",
   "execution_count": 8,
   "id": "f31a8a8c",
   "metadata": {},
   "outputs": [],
   "source": [
    "date = datetime.today().strftime('%d-%m-%Y')\n",
    "tmov = 'saque'\n",
    "valor = 25.0"
   ]
  },
  {
   "cell_type": "code",
   "execution_count": 3,
   "id": "cb75a017",
   "metadata": {},
   "outputs": [],
   "source": [
    "def ver():\n",
    "    if os.path.isfile('settings/cde.db'):\n",
    "        pass\n",
    "    else:\n",
    "        con = sqlite3.connect('settings/cde.db')\n",
    "        cur = con.cursor()\n",
    "        cur.execute('''CREATE TABLE movimentacao(Data date, TMov text, VMov real)''')\n",
    "        con.commit()\n",
    "        con.close()\n",
    "\n",
    "def movimentacao(x,y,z):\n",
    "    con = sqlite3.connect('settings/cde.db')\n",
    "    cur = con.cursor()\n",
    "    cur.execute('''INSERT INTO movimentacao VALUES('{}', '{}', '{}')'''.format(x, y, z))\n",
    "    con.commit()\n",
    "    con.close()\n"
   ]
  },
  {
   "cell_type": "code",
   "execution_count": 9,
   "id": "8d46df9e",
   "metadata": {},
   "outputs": [],
   "source": [
    "ver()\n",
    "movimentacao(date, tmov, valor)"
   ]
  },
  {
   "cell_type": "code",
   "execution_count": 10,
   "id": "b234bdec",
   "metadata": {
    "scrolled": true
   },
   "outputs": [
    {
     "name": "stdout",
     "output_type": "stream",
     "text": [
      "(200.0,)\n"
     ]
    }
   ],
   "source": [
    "con = sqlite3.connect('settings/cde.db')\n",
    "cur = con.cursor()\n",
    "\n",
    "for row in cur.execute('''SELECT SUM(VMov) FROM movimentacao WHERE TMov='deposito' '''):\n",
    "    deposito = row\n",
    "    \n",
    "for row in cur.execute('''SELECT SUM(VMov) FROM movimentacao WHERE TMov='saque' '''):\n",
    "    saque = row\n",
    "    \n",
    "print(deposito)\n",
    "    \n",
    "con.commit()\n",
    "con.close()"
   ]
  }
 ],
 "metadata": {
  "kernelspec": {
   "display_name": "Python 3 (ipykernel)",
   "language": "python",
   "name": "python3"
  },
  "language_info": {
   "codemirror_mode": {
    "name": "ipython",
    "version": 3
   },
   "file_extension": ".py",
   "mimetype": "text/x-python",
   "name": "python",
   "nbconvert_exporter": "python",
   "pygments_lexer": "ipython3",
   "version": "3.9.7"
  }
 },
 "nbformat": 4,
 "nbformat_minor": 5
}
