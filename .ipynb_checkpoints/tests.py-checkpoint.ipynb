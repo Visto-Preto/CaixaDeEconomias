{
 "cells": [
  {
   "cell_type": "code",
   "execution_count": 3,
   "id": "d4042f8b",
   "metadata": {},
   "outputs": [],
   "source": [
    "import os, sqlite3\n",
    "from module.realsymbol import Real as rs\n",
    "from datetime import datetime"
   ]
  },
  {
   "cell_type": "code",
   "execution_count": 14,
   "id": "28d40d3c",
   "metadata": {},
   "outputs": [],
   "source": [
    "date = datetime.today().strftime('%d/%m/%Y')\n",
    "tmov = 'saque'\n",
    "valor = 5.0"
   ]
  },
  {
   "cell_type": "code",
   "execution_count": 12,
   "id": "6a9d0844",
   "metadata": {},
   "outputs": [
    {
     "name": "stdout",
     "output_type": "stream",
     "text": [
      "('09-05-2022', 'deposito', 25.0)\n",
      "('09-05-2022', 'deposito', 175.0)\n",
      "('09-05-2022', 'saque', 25.0)\n",
      "('09-05-2022', 'saque', 20.0)\n",
      "('09-05-2022', 'saque', 5.0)\n",
      "(0.0,)\n"
     ]
    }
   ],
   "source": [
    "con = sqlite3.connect('settings/cde.db')\n",
    "cur = con.cursor()\n",
    "for row in cur.execute('''select * from movimentacao'''):\n",
    "    print(row)\n",
    "for count in cur.execute('''select sum(TMov) from movimentacao'''):\n",
    "    print(count)\n",
    "con.commit()\n",
    "con.close()\n"
   ]
  },
  {
   "cell_type": "code",
   "execution_count": 13,
   "id": "a2bf76cd",
   "metadata": {},
   "outputs": [
    {
     "data": {
      "text/plain": [
       "0.0"
      ]
     },
     "execution_count": 13,
     "metadata": {},
     "output_type": "execute_result"
    }
   ],
   "source": [
    "count[0]"
   ]
  },
  {
   "cell_type": "code",
   "execution_count": null,
   "id": "b4b36c14",
   "metadata": {},
   "outputs": [],
   "source": []
  }
 ],
 "metadata": {
  "kernelspec": {
   "display_name": "Python 3 (ipykernel)",
   "language": "python",
   "name": "python3"
  },
  "language_info": {
   "codemirror_mode": {
    "name": "ipython",
    "version": 3
   },
   "file_extension": ".py",
   "mimetype": "text/x-python",
   "name": "python",
   "nbconvert_exporter": "python",
   "pygments_lexer": "ipython3",
   "version": "3.9.7"
  }
 },
 "nbformat": 4,
 "nbformat_minor": 5
}
